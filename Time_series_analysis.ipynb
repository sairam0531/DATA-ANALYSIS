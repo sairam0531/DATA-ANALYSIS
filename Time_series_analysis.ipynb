{
  "nbformat": 4,
  "nbformat_minor": 0,
  "metadata": {
    "colab": {
      "provenance": [],
      "authorship_tag": "ABX9TyM4zlcqewri1iAzQ5JDSncG",
      "include_colab_link": true
    },
    "kernelspec": {
      "name": "python3",
      "display_name": "Python 3"
    },
    "language_info": {
      "name": "python"
    }
  },
  "cells": [
    {
      "cell_type": "markdown",
      "metadata": {
        "id": "view-in-github",
        "colab_type": "text"
      },
      "source": [
        "<a href=\"https://colab.research.google.com/github/sairam0531/DATA-ANALYSIS/blob/main/Time_series_analysis.ipynb\" target=\"_parent\"><img src=\"https://colab.research.google.com/assets/colab-badge.svg\" alt=\"Open In Colab\"/></a>"
      ]
    },
    {
      "cell_type": "code",
      "execution_count": null,
      "metadata": {
        "id": "wxUpqQxuknra"
      },
      "outputs": [],
      "source": [
        "# prompt: time series analysis of numpy\n",
        "\n",
        "import numpy as np\n",
        "import matplotlib.pyplot as plt\n",
        "\n",
        "# Create a time series\n",
        "time = np.arange(0, 100)\n",
        "data = np.sin(2 * np.pi * time / 10)\n",
        "\n",
        "# Plot the time series\n",
        "plt.plot(time, data)\n",
        "plt.xlabel('Time')\n",
        "plt.ylabel('Value')\n",
        "plt.title('Time Series Analysis of Numpy')\n",
        "plt.show()\n",
        "\n",
        "# Perform time series analysis\n",
        "from statsmodels.tsa.stattools import adfuller\n",
        "\n",
        "# Test for stationarity\n",
        "adf_result = adfuller(data)\n",
        "print('ADF Statistic:', adf_result[0])\n",
        "print('p-value:', adf_result[1])\n",
        "\n",
        "# Autocorrelation and partial autocorrelation\n",
        "from statsmodels.tsa.stattools import acf, pacf\n",
        "\n",
        "acf_result = acf(data)\n",
        "pacf_result = pacf(data)\n",
        "\n",
        "# Plot the autocorrelation and partial autocorrelation functions\n",
        "plt.plot(acf_result)\n",
        "plt.xlabel('Lag')\n",
        "plt.ylabel('Autocorrelation')\n",
        "plt.title('Autocorrelation Function')\n",
        "plt.show()\n",
        "\n",
        "plt.plot(pacf_result)\n",
        "plt.xlabel('Lag')\n",
        "plt.ylabel('Partial Autocorrelation')\n",
        "plt.title('Partial Autocorrelation Function')\n",
        "plt.show()"
      ]
    }
  ]
}