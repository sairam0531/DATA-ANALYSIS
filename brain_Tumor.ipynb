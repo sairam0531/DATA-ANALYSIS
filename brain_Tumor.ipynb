{
  "nbformat": 4,
  "nbformat_minor": 0,
  "metadata": {
    "colab": {
      "provenance": [],
      "mount_file_id": "12Xh3QfG2D0xbSJIp11xmrlSZtW1ZnWOp",
      "authorship_tag": "ABX9TyOG6cnHA81tUwqbjhvBqEt2",
      "include_colab_link": true
    },
    "kernelspec": {
      "name": "python3",
      "display_name": "Python 3"
    },
    "language_info": {
      "name": "python"
    }
  },
  "cells": [
    {
      "cell_type": "markdown",
      "metadata": {
        "id": "view-in-github",
        "colab_type": "text"
      },
      "source": [
        "<a href=\"https://colab.research.google.com/github/sairam0531/DATA-ANALYSIS/blob/main/brain_Tumor.ipynb\" target=\"_parent\"><img src=\"https://colab.research.google.com/assets/colab-badge.svg\" alt=\"Open In Colab\"/></a>"
      ]
    },
    {
      "cell_type": "code",
      "source": [
        "import tensorflow as tf\n",
        "from tensorflow import keras\n",
        "from tensorflow.keras import layers\n",
        "from tensorflow.keras.preprocessing.image import ImageDataGenerator\n",
        " # Define image size and batch size\n",
        "IMG_SIZE = 224\n",
        "BATCH_SIZE = 32"
      ],
      "metadata": {
        "id": "un4LvAWdkhpd"
      },
      "execution_count": null,
      "outputs": []
    },
    {
      "cell_type": "code",
      "source": [
        "# Define data generators for train, validation and test sets\n",
        "train_datagen = ImageDataGenerator(\n",
        "    rescale=1./255,\n",
        "    validation_split=0.2\n",
        ")\n",
        "\n",
        "train_generator = train_datagen.flow_from_directory(\n",
        "    '/content/drive/MyDrive/Brain_tumoer',\n",
        "    target_size=(IMG_SIZE, IMG_SIZE),\n",
        "    batch_size=BATCH_SIZE,\n",
        "    class_mode='binary',\n",
        "    subset='training'\n",
        ")\n",
        "\n",
        "val_generator = train_datagen.flow_from_directory(\n",
        "    '/content/drive/MyDrive/Brain_tumoer/Train',\n",
        "    target_size=(IMG_SIZE, IMG_SIZE),\n",
        "    batch_size=BATCH_SIZE,\n",
        "    class_mode='binary',\n",
        "    subset='validation'\n",
        ")\n",
        "\n",
        "test_datagen = ImageDataGenerator(rescale=1./255)\n",
        "\n",
        "test_generator = test_datagen.flow_from_directory(\n",
        "    '/content/drive/MyDrive/Brain_tumoer/Test',\n",
        "    target_size=(IMG_SIZE, IMG_SIZE),\n",
        "    batch_size=BATCH_SIZE,\n",
        "    class_mode='binary'\n",
        ")\n"
      ],
      "metadata": {
        "colab": {
          "base_uri": "https://localhost:8080/"
        },
        "id": "szAIpASOrXZ8",
        "outputId": "683f2bb8-4825-45b8-e0b0-c69068772fc7"
      },
      "execution_count": null,
      "outputs": [
        {
          "output_type": "stream",
          "name": "stdout",
          "text": [
            "Found 2456 images belonging to 2 classes.\n",
            "Found 602 images belonging to 2 classes.\n",
            "Found 60 images belonging to 1 classes.\n"
          ]
        }
      ]
    },
    {
      "cell_type": "code",
      "source": [
        "from google.colab import drive\n",
        "drive.mount('/content/drive')"
      ],
      "metadata": {
        "colab": {
          "base_uri": "https://localhost:8080/"
        },
        "id": "Qzs_ft-rrxxN",
        "outputId": "0db280bf-92f4-4653-ec40-bd2e7b76cb75"
      },
      "execution_count": null,
      "outputs": [
        {
          "output_type": "stream",
          "name": "stdout",
          "text": [
            "Drive already mounted at /content/drive; to attempt to forcibly remount, call drive.mount(\"/content/drive\", force_remount=True).\n"
          ]
        }
      ]
    },
    {
      "cell_type": "code",
      "source": [
        "# Define the model\n",
        "model = keras.Sequential([\n",
        "    layers.Conv2D(32, (3, 3), activation='relu', input_shape=(IMG_SIZE, IMG_SIZE, 3)),\n",
        "    layers.MaxPooling2D((2, 2)),\n",
        "    layers.Conv2D(64, (3, 3), activation='relu'),\n",
        "    layers.MaxPooling2D((2, 2)),\n",
        "    layers.Conv2D(128, (3, 3), activation='relu'),\n",
        "    layers.MaxPooling2D((2, 2)),\n",
        "    layers.Flatten(),\n",
        "    layers.Dense(128, activation='relu'),\n",
        "    layers.Dense(1, activation='sigmoid')\n",
        "])"
      ],
      "metadata": {
        "id": "WsTdqsBbr07X"
      },
      "execution_count": null,
      "outputs": []
    },
    {
      "cell_type": "code",
      "source": [
        "# Compile the model\n",
        "model.compile(optimizer='adam', loss='binary_crossentropy', metrics=['accuracy'])\n"
      ],
      "metadata": {
        "id": "cNXPFqVrr5kj"
      },
      "execution_count": null,
      "outputs": []
    },
    {
      "cell_type": "code",
      "source": [
        "history = model.fit(train_generator,validation_data=val_generator,epochs=5)"
      ],
      "metadata": {
        "id": "nUYCfs46A1_O"
      },
      "execution_count": null,
      "outputs": []
    },
    {
      "cell_type": "code",
      "source": [
        "model.save(\"Model.h5\",\"label.txt\")\n"
      ],
      "metadata": {
        "id": "voBHtcMWsOSK",
        "colab": {
          "base_uri": "https://localhost:8080/"
        },
        "outputId": "16debf3e-b2ca-4c4b-edf5-fd0a27a9e336"
      },
      "execution_count": null,
      "outputs": [
        {
          "output_type": "stream",
          "name": "stderr",
          "text": [
            "/usr/local/lib/python3.10/dist-packages/keras/src/engine/training.py:3103: UserWarning: You are saving your model as an HDF5 file via `model.save()`. This file format is considered legacy. We recommend using instead the native Keras format, e.g. `model.save('my_model.keras')`.\n",
            "  saving_api.save_model(\n"
          ]
        }
      ]
    },
    {
      "cell_type": "code",
      "source": [
        "# @title Default title text\n",
        "from keras.models import load_model\n",
        "from tensorflow.keras.preprocessing import image  # TensorFlow is required for Keras to work\n",
        "from PIL import Image, ImageOps  # Install pillow instead of PIL\n",
        "import numpy as np\n",
        "\n",
        "#load the model\n",
        "model = load_model('/content/Model.h5')\n",
        "test_image_path='/content/drive/MyDrive/Brain_tumoer/Train/no/no1029.jpg'\n",
        "img=image.load_img(test_image_path,target_size=(224,224))\n",
        "img_array=image.img_to_array(img)\n",
        "img_array=np.expand_dims(img_array,axis=0)\n",
        "img_array/=225.\n",
        "prediction=model.predict(img_array)\n",
        "if prediction<0.5:\n",
        "  print(\"prediction :no tumor(probability:\",prediction[0][0],\")\")\n",
        "else:\n",
        "    print(\"prediction :yes tumor(probability:\",prediction[0][0],\")\")\n",
        "#class_names = ['You have Brain Tumor','You do not have Brain Tumor']\n",
        "#data = np.ndarray(shape=(1, 224, 224, 3), dtype=np.float32)\n"
      ],
      "metadata": {
        "colab": {
          "base_uri": "https://localhost:8080/"
        },
        "id": "mS2k4WM4475s",
        "outputId": "381141bc-c333-4b01-8727-b7e80630e13e"
      },
      "execution_count": null,
      "outputs": [
        {
          "output_type": "stream",
          "name": "stdout",
          "text": [
            "1/1 [==============================] - 0s 108ms/step\n",
            "prediction :yes tumor(probability: 0.9892419 )\n"
          ]
        }
      ]
    },
    {
      "cell_type": "code",
      "source": [
        "#test your image\n",
        "from keras.models import load_model  # TensorFlow is required for Keras to work\n",
        "from PIL import Image, ImageOps  # Install pillow instead of PIL\n",
        "import numpy as np\n",
        "from tensorflow.keras.preprocessing import image\n",
        "#load the model\n",
        "model = load_model('/content/Model.h5')\n",
        "test_image_path='/content/drive/MyDrive/Brain_tumoer/Test/pred/pred11.jpg'\n",
        "img = image.load_img(test_image_path,target_size =(224,224))\n",
        "img_array =image.img_to_array(img)\n",
        "img_array = np.expand_dims(img_array,axis = 0)\n",
        "img_array/=255\n",
        "#make predictions\n",
        "prediction = model.predict(img_array)\n",
        "#print the prediction\n",
        "if prediction < 0.5 :\n",
        "  print(\"prediction : No tumor (probability:\" ,prediction[0][0],\")\")\n",
        "else :\n",
        "  print(\"prediction :  Yes Tumor present (probability:\" ,prediction[0][0],\")\")\n",
        "\n"
      ],
      "metadata": {
        "id": "btMCujh-sPO8",
        "colab": {
          "base_uri": "https://localhost:8080/"
        },
        "outputId": "2539a6c7-29b6-4256-bafe-dbb10d1b423b"
      },
      "execution_count": null,
      "outputs": [
        {
          "output_type": "stream",
          "name": "stderr",
          "text": [
            "WARNING:tensorflow:6 out of the last 6 calls to <function Model.make_predict_function.<locals>.predict_function at 0x79a39be38310> triggered tf.function retracing. Tracing is expensive and the excessive number of tracings could be due to (1) creating @tf.function repeatedly in a loop, (2) passing tensors with different shapes, (3) passing Python objects instead of tensors. For (1), please define your @tf.function outside of the loop. For (2), @tf.function has reduce_retracing=True option that can avoid unnecessary retracing. For (3), please refer to https://www.tensorflow.org/guide/function#controlling_retracing and https://www.tensorflow.org/api_docs/python/tf/function for  more details.\n"
          ]
        },
        {
          "output_type": "stream",
          "name": "stdout",
          "text": [
            "1/1 [==============================] - 0s 117ms/step\n",
            "prediction :  Yes Tumor present (probability: 0.97472614 )\n"
          ]
        }
      ]
    },
    {
      "cell_type": "code",
      "source": [
        "# Predicts the model\n",
        "#prediction = model.predict(data)\n",
        "#index = np.argmax(prediction)\n",
        "#confidence_score = prediction[0][index]\n",
        "# Print prediction and confidence score\n",
        "#print(\"Result: \", class_names[index], end=\"\")\n",
        "#print(\"\\n\")\n",
        "#print(\"Accuracy: \", confidence_score)\n",
        "#Make Prediction\n",
        "#prediction=model.predict(img_array)\n",
        "#print the prediction\n",
        "#if prediction <0.5:\n",
        "  #print(\"Prediction:No tumor (Probability:\",prediction[0][0],)\n"
      ],
      "metadata": {
        "id": "HqdFG3D1sZl_"
      },
      "execution_count": null,
      "outputs": []
    }
  ]
}