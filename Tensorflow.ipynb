{
  "nbformat": 4,
  "nbformat_minor": 0,
  "metadata": {
    "colab": {
      "provenance": [],
      "authorship_tag": "ABX9TyM/71DabsxHTrrxGy+oAFdL",
      "include_colab_link": true
    },
    "kernelspec": {
      "name": "python3",
      "display_name": "Python 3"
    },
    "language_info": {
      "name": "python"
    }
  },
  "cells": [
    {
      "cell_type": "markdown",
      "metadata": {
        "id": "view-in-github",
        "colab_type": "text"
      },
      "source": [
        "<a href=\"https://colab.research.google.com/github/sairam0531/DATA-ANALYSIS/blob/main/Tensorflow.ipynb\" target=\"_parent\"><img src=\"https://colab.research.google.com/assets/colab-badge.svg\" alt=\"Open In Colab\"/></a>"
      ]
    },
    {
      "cell_type": "code",
      "execution_count": null,
      "metadata": {
        "id": "1KPLd_CJFB3v"
      },
      "outputs": [],
      "source": [
        "import tensorflow as tf\n",
        "#enable eager execution(if not already enabled)\n",
        "tf.config.run_functions_eagerly(True)\n",
        "#Define a constant\n",
        "a=tf.constant('hello world')\n",
        "print(a)\n",
        "#print(a.numpy())"
      ]
    },
    {
      "cell_type": "code",
      "source": [
        "#scalar constant\n",
        "a=tf.constant(42)\n",
        "b=tf.constant(3.14)\n",
        "c=tf.constant(\"Hello TensorFlow\")\n",
        "print(a)\n",
        "print(a.numpy())\n",
        "print(b)\n",
        "print(b.numpy())\n",
        "print(c)\n",
        "print(c.numpy())"
      ],
      "metadata": {
        "id": "d_6iw4EwGf-d"
      },
      "execution_count": null,
      "outputs": []
    },
    {
      "cell_type": "code",
      "source": [
        "#vector constants\n",
        "a=tf.constant([1,2,3])\n",
        "b=tf.constant([1.0,2.0,3.0])\n",
        "print(a)\n",
        "print(a.numpy())\n",
        "print(b)\n",
        "print(b.numpy())"
      ],
      "metadata": {
        "id": "9ZeJd1NsG8Af"
      },
      "execution_count": null,
      "outputs": []
    },
    {
      "cell_type": "code",
      "source": [
        "#Higher dimensional tensor constant\n",
        "a=tf.constant([[[1,2,0],[3,4,0]],[[5,6,0],[7,8,0]]])\n",
        "print(a)\n",
        "print(a.numpy())\n",
        "#Special constants\n",
        "a=tf.zeros(shape=(2,2))\n",
        "b=tf.ones(shape=(3,3))\n",
        "print(a)\n",
        "print(a.numpy())\n",
        "print(b)\n",
        "print(b.numpy())"
      ],
      "metadata": {
        "id": "RZSj5GDsHhEo"
      },
      "execution_count": null,
      "outputs": []
    },
    {
      "cell_type": "code",
      "source": [
        "import tensorflow as tf\n",
        "tf.config.run_functions_eagerly(True)\n",
        "a=tf.constant([[5.0,6.0],[1.0,2.0]])\n",
        "b=tf.constant([[1.0,2.0],[3.0,6.0]])\n",
        "c=tf.matmul(a,b)\n",
        "d=a@b\n",
        "result=a*b\n",
        "print(result)\n",
        "print(result.numpy())\n",
        "print(c)\n",
        "print(d)"
      ],
      "metadata": {
        "id": "g_IU4ipuJW-T"
      },
      "execution_count": null,
      "outputs": []
    },
    {
      "cell_type": "code",
      "source": [
        "a=tf.constant(1.25)\n",
        "print(a)\n",
        "print(a.numpy())\n",
        "b=tf.cast(a,dtype=tf.int32)\n",
        "print(b)\n",
        "print(b.numpy())"
      ],
      "metadata": {
        "id": "UH9sr80BLW6H"
      },
      "execution_count": null,
      "outputs": []
    },
    {
      "cell_type": "code",
      "source": [
        "#Transpose and reduce function\n",
        "x=tf.constant([[1.,2.,3.],[4.,5.,6.]])\n",
        "print(x)\n",
        "#print(x.numpy())\n",
        "e=tf.transpose(x)\n",
        "print(e.numpy())\n",
        "r=tf.reduce_sum(x)\n",
        "print(r.numpy())\n",
        "f=tf.concat([x,x,x],axis=0)\n",
        "print(f.numpy())"
      ],
      "metadata": {
        "id": "4f7ozwibLr-O"
      },
      "execution_count": null,
      "outputs": []
    },
    {
      "cell_type": "code",
      "source": [
        "logits=tf.constant([[11.0,12.0,13.0,14.0,15.0]])\n",
        "softmax_probs=tf.nn.softmax(logits,axis=1)\n",
        "print(softmax_probs)\n",
        "y=tf.constant([[11.0,22.0,33.0]])\n",
        "softmax=tf.nn.softmax(y,axis=-1)\n",
        "print(softmax)"
      ],
      "metadata": {
        "id": "03axhA9gNWCQ"
      },
      "execution_count": null,
      "outputs": []
    }
  ]
}