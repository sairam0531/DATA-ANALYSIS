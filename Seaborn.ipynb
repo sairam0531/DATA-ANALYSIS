{
  "nbformat": 4,
  "nbformat_minor": 0,
  "metadata": {
    "colab": {
      "provenance": [],
      "authorship_tag": "ABX9TyNm81bKF8WdSOWnkcChy5Pi",
      "include_colab_link": true
    },
    "kernelspec": {
      "name": "python3",
      "display_name": "Python 3"
    },
    "language_info": {
      "name": "python"
    }
  },
  "cells": [
    {
      "cell_type": "markdown",
      "metadata": {
        "id": "view-in-github",
        "colab_type": "text"
      },
      "source": [
        "<a href=\"https://colab.research.google.com/github/sairam0531/DATA-ANALYSIS/blob/main/Seaborn.ipynb\" target=\"_parent\"><img src=\"https://colab.research.google.com/assets/colab-badge.svg\" alt=\"Open In Colab\"/></a>"
      ]
    },
    {
      "cell_type": "code",
      "execution_count": null,
      "metadata": {
        "id": "tgwKVWRP5bvu"
      },
      "outputs": [],
      "source": [
        "pip install seaborn"
      ]
    },
    {
      "cell_type": "code",
      "source": [
        "import seaborn as sns\n",
        "import matplotlib.pyplot as plt\n",
        "tips=sns.load_dataset(\"tips\")\n",
        "#create a scatter plot\n",
        "sns.scatterplot(x=\"total_bill\",y=\"tip\",data=tips)\n",
        "plt.title(\"scatter plot of Total bills vs. Tip\")\n",
        "plt.xlabel(\"Total Bill ($)\")\n",
        "plt.ylabel(\"Tip ($)\")\n",
        "plt.show()"
      ],
      "metadata": {
        "id": "o-WtWIzB5kv8"
      },
      "execution_count": null,
      "outputs": []
    },
    {
      "cell_type": "code",
      "source": [
        "import seaborn as sns\n",
        "import pandas as pd\n",
        "import matplotlib.pyplot as plt\n",
        "tips=sns.load_dataset(\"titanic\")\n",
        "print(tips)\n",
        "#create a scatter plot\n",
        "sns.scatterplot(x=\"survived\",y=\"age\",data=tips)\n",
        "plt.title(\"scatter plot of survived vs. age\")\n",
        "plt.xlabel(\"Survived\")\n",
        "plt.ylabel(\"age\")\n",
        "plt.show()"
      ],
      "metadata": {
        "id": "O_vPPwoI-vEs"
      },
      "execution_count": null,
      "outputs": []
    },
    {
      "cell_type": "code",
      "source": [
        "import seaborn as sns\n",
        "import matplotlib.pyplot as plt\n",
        "#load example dataset\n",
        "iris=sns.load_dataset(\"iris\")\n",
        "print(iris)\n",
        "correlation_matrix=iris.corr()\n",
        "#correlation matrix\n",
        "sns.heatmap(correlation_matrix,annot=True,cmap=\"coolwarm\")\n",
        "plt.title(\"correlation Heatmap of Iris Dataset\")\n",
        "plt.show()"
      ],
      "metadata": {
        "id": "2gqQYGEACCKZ"
      },
      "execution_count": null,
      "outputs": []
    },
    {
      "cell_type": "code",
      "source": [
        "import seaborn as sns\n",
        "import matplotlib.pyplot as plt\n",
        "#load example dataset\n",
        "iris=sns.load_dataset(\"dots\")\n",
        "print(iris)\n",
        "correlation_matrix=iris.corr()\n",
        "sns.heatmap(correlation_matrix,annot=True,cmap=\"coolwarm\")\n",
        "plt.title(\"correlation Heatmap of Iris Dataset\")\n",
        "plt.show()"
      ],
      "metadata": {
        "id": "fI30-wroDNVX"
      },
      "execution_count": null,
      "outputs": []
    }
  ]
}