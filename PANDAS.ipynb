{
  "nbformat": 4,
  "nbformat_minor": 0,
  "metadata": {
    "colab": {
      "provenance": [],
      "authorship_tag": "ABX9TyM0DiWHSRogPLywooQpGrAU",
      "include_colab_link": true
    },
    "kernelspec": {
      "name": "python3",
      "display_name": "Python 3"
    },
    "language_info": {
      "name": "python"
    }
  },
  "cells": [
    {
      "cell_type": "markdown",
      "metadata": {
        "id": "view-in-github",
        "colab_type": "text"
      },
      "source": [
        "<a href=\"https://colab.research.google.com/github/sairam0531/DATA-ANALYSIS/blob/main/PANDAS.ipynb\" target=\"_parent\"><img src=\"https://colab.research.google.com/assets/colab-badge.svg\" alt=\"Open In Colab\"/></a>"
      ]
    },
    {
      "cell_type": "code",
      "execution_count": null,
      "metadata": {
        "id": "YTmP2Jm2sfEm"
      },
      "outputs": [],
      "source": [
        "#importing pandas\n",
        "import pandas as pd\n",
        "a=[\"sai\",'anil','farhan','kiran']\n",
        "r=pd.Series(a,index=[1,2,3,4])\n",
        "print(r)\n",
        "df=pd.read_csv(\"/content/titanic.csv\")\n",
        "print(df)\n",
        "df=pd.read_csv(\"/content/Spark-Course-Description.txt\")\n",
        "print(df)\n",
        "k=pd.read_excel(\"/content/train.xlsx\")\n",
        "print(k)\n",
        "print(k.loc[1])"
      ]
    },
    {
      "cell_type": "code",
      "source": [
        "dfn=pd.read_csv(\"/content/titanic.csv\")\n",
        "print(dfn)"
      ],
      "metadata": {
        "id": "ZXCud9vgBafm"
      },
      "execution_count": null,
      "outputs": []
    },
    {
      "cell_type": "code",
      "source": [
        "mv=dfn['PassengerId'].mean()\n",
        "print(mv)"
      ],
      "metadata": {
        "id": "5m9_cghXBkrJ"
      },
      "execution_count": null,
      "outputs": []
    },
    {
      "cell_type": "code",
      "source": [
        "m=dfn.drop_duplicates()\n",
        "print(m)"
      ],
      "metadata": {
        "id": "49Q3PLfJB4Ul"
      },
      "execution_count": null,
      "outputs": []
    },
    {
      "cell_type": "code",
      "source": [
        "dfn.head(6)"
      ],
      "metadata": {
        "id": "CZC16JqYClkl"
      },
      "execution_count": null,
      "outputs": []
    },
    {
      "cell_type": "code",
      "source": [
        "import pandas as pd\n",
        "dfn=pd.read_csv(\"/content/titanic.csv\")\n",
        "a=dfn.head(10)\n",
        "b=dfn.tail(10)\n",
        "k=pd.concat([a,b],axis=0)\n",
        "k.to_csv('ram.csv')"
      ],
      "metadata": {
        "id": "ovWTDgGnRHHz"
      },
      "execution_count": null,
      "outputs": []
    },
    {
      "cell_type": "code",
      "source": [
        "print(k.groupby(['PassengerId'])['Survived'].count())"
      ],
      "metadata": {
        "id": "sKFk3p2efm5j"
      },
      "execution_count": null,
      "outputs": []
    },
    {
      "cell_type": "code",
      "source": [
        "import numpy as np\n",
        "import matplotlib.pyplot as plt\n",
        "runs=np.array([100,50,91,78,89,25,34,19,9,10])\n",
        "w=np.array([1,0,2,0,3,7,8,9,7,5])\n",
        "plt.plot(runs,w,color='red')\n",
        "plt.title('IndvsAus_score')\n",
        "plt.show()"
      ],
      "metadata": {
        "id": "huE9xVIepEUY"
      },
      "execution_count": null,
      "outputs": []
    },
    {
      "cell_type": "code",
      "source": [
        "import numpy as np\n",
        "import matplotlib.pyplot as plt\n",
        "#Generate array of 200 values between -pi and pi\n",
        "tigar=np.linspace(-2*np.pi,2*np.pi,100)\n",
        "print(tigar)\n",
        "\n",
        "plt.scatter(tigar,np.sin(tigar),color='red')\n",
        "#sin plt plot(x,y,color,labels ....)\n",
        "plt.title(\"sin(x)\")"
      ],
      "metadata": {
        "id": "cJwd48wjq3Ry"
      },
      "execution_count": null,
      "outputs": []
    },
    {
      "cell_type": "code",
      "source": [
        "import numpy as np\n",
        "import matplotlib.pyplot as plt\n",
        "#creating x\n",
        "overs=np.arange(5,50,5)\n",
        "overs_a=np.arange(5,30,5)\n",
        "#creating y\n",
        "runs_i=np.array([25,51,84,131,160,189,220,250,267])\n",
        "runs_a=np.array([15,41,94,110,151])\n",
        "wickets=np.array([12,32,96])\n",
        "plt.subplot(2,1,2)\n",
        "#plotting\n",
        "plt.plot(overs,runs_i,color='green',label='India')\n",
        "plt.subplot(2,1,1)\n",
        "plt.plot(overs_a,runs_a,color='blue',label='Aus')\n",
        "#combining two graphs\n",
        "plt.legend(loc='best')\n",
        "#displaying final graph\n",
        "plt.show()"
      ],
      "metadata": {
        "id": "3m5LTsvpvd8G"
      },
      "execution_count": null,
      "outputs": []
    },
    {
      "cell_type": "code",
      "source": [
        "import matplotlib.pyplot as plt\n",
        "a=[230,560,780,127,128]\n",
        "b=[200,160,270,127,400]\n",
        "years=[1,2,3,4]\n",
        "\n",
        "\n",
        "profit_a=[(a[i]-a[i-1]) for i in range(1,len(a))]\n",
        "profit_b=[(b[i]-b[i-1]) for i in range(1,len(b))]\n",
        "plt.subplot(2,1,2)\n",
        "plt.plot(years,profit_a,color='hotpink',linewidth='3',label='company_A',marker='.',ms='19',mec='k')\n",
        "plt.legend(loc='best')\n",
        "plt.subplot(2,1,1)\n",
        "plt.plot(years,profit_b,color='black',linestyle='dotted',label='company_B',marker='+')\n",
        "plt.legend(loc='best')\n",
        "plt.show()"
      ],
      "metadata": {
        "id": "lbty-3fyyW7g"
      },
      "execution_count": null,
      "outputs": []
    },
    {
      "cell_type": "code",
      "source": [
        "a=np.array([25,60,5,10])\n",
        "labe=[\"AIML\",\"PYTHON\",\"PANDAS\",\"NUMPY\"]\n",
        "c=[\"green\",\"orange\",\"blue\",\"red\"]\n",
        "explo=[0.2,0,0,0]\n",
        "plt.pie(a,labels=labe,explode=explo,startangle=180,colors=c,textprops={'fontsize':31})\n",
        "\n",
        "plt.legend(loc='best')\n",
        "#plt.pie(a,labels=labe)\n",
        "#plt.show"
      ],
      "metadata": {
        "id": "gpJYCtOD8t5m"
      },
      "execution_count": null,
      "outputs": []
    },
    {
      "cell_type": "code",
      "source": [
        "#/content/city_temperature.csv\n",
        "#Task1\n",
        "import pandas as pd\n",
        "import numpy as np\n",
        "import matplotlib.pyplot as plt\n",
        "# Load the dataset containing daily temperatures\n",
        "# Assuming the dataset is in a CSV file named 'temperature_data.csv' with a column named 'temperature'\n",
        "df = pd.read_csv('/content/city_temperature.csv')\n",
        "print(df)\n",
        "\n",
        "\n",
        "average_temperature = df['AvgTemperature'].mean()\n",
        "highest_temperature = df['AvgTemperature'].max()\n",
        "lowest_temperature = df['AvgTemperature'].min()\n",
        "threshold = 30\n",
        "days_above_threshold = df[df['AvgTemperature'] > threshold].shape[0]\n",
        "\n",
        "\n",
        "print(\"Average temperature for the month:\", average_temperature)\n",
        "print(\"Highest temperature recorded:\", highest_temperature)\n",
        "print(\"Lowest temperature recorded:\", lowest_temperature)\n",
        "print(\"Number of days where temperature exceeded\", threshold, \"degrees Celsius:\", days_above_threshold)\n",
        "df.plot(kind='line',color='blue')\n",
        "plt.title(\"Temperature for 100 days\")\n",
        "plt.xlabel(\"Days\")\n",
        "plt.ylabel(\"Temperature\")"
      ],
      "metadata": {
        "id": "HNub3WlNzT5G"
      },
      "execution_count": null,
      "outputs": []
    }
  ]
}