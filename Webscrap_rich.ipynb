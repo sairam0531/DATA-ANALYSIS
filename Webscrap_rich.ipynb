{
  "nbformat": 4,
  "nbformat_minor": 0,
  "metadata": {
    "colab": {
      "provenance": [],
      "authorship_tag": "ABX9TyMAOvyrtoWpHHttD3UOKfXL",
      "include_colab_link": true
    },
    "kernelspec": {
      "name": "python3",
      "display_name": "Python 3"
    },
    "language_info": {
      "name": "python"
    }
  },
  "cells": [
    {
      "cell_type": "markdown",
      "metadata": {
        "id": "view-in-github",
        "colab_type": "text"
      },
      "source": [
        "<a href=\"https://colab.research.google.com/github/sairam0531/DATA-ANALYSIS/blob/main/Webscrap_rich.ipynb\" target=\"_parent\"><img src=\"https://colab.research.google.com/assets/colab-badge.svg\" alt=\"Open In Colab\"/></a>"
      ]
    },
    {
      "cell_type": "code",
      "execution_count": null,
      "metadata": {
        "id": "s4yLdwbW7CoQ"
      },
      "outputs": [],
      "source": [
        "from bs4 import BeautifulSoup\n",
        "import requests"
      ]
    },
    {
      "cell_type": "code",
      "source": [
        "a=\"https://www.forbesindia.com/article/explainers/top-10-richest-people-india/85909/1\"\n",
        "page=requests.get(a)\n",
        "hcode=BeautifulSoup(page.text,'html')\n",
        "print(hcode)"
      ],
      "metadata": {
        "id": "130KK3-f7Jg9"
      },
      "execution_count": null,
      "outputs": []
    },
    {
      "cell_type": "code",
      "source": [
        "t=hcode.find('title')\n",
        "print(t)"
      ],
      "metadata": {
        "id": "8jbsIGHn7P6i"
      },
      "execution_count": null,
      "outputs": []
    },
    {
      "cell_type": "code",
      "source": [
        "table=hcode.find('table')\n",
        "print(table)"
      ],
      "metadata": {
        "id": "1GTSO_TZ7VEw"
      },
      "execution_count": null,
      "outputs": []
    },
    {
      "cell_type": "code",
      "source": [
        "t=hcode.find_all('th')\n",
        "print(t)"
      ],
      "metadata": {
        "id": "QZZXIhqL7e8h"
      },
      "execution_count": null,
      "outputs": []
    },
    {
      "cell_type": "code",
      "source": [
        "head=[]\n",
        "for i in t:\n",
        "  head.append(i.text)\n",
        "print(head)"
      ],
      "metadata": {
        "id": "DPO7jFPh8Eg_"
      },
      "execution_count": null,
      "outputs": []
    },
    {
      "cell_type": "code",
      "source": [
        "#list comprehension syntax\n",
        "#list_name=[output and for loop]\n",
        "head=[i.text for i in t]\n",
        "print(head)"
      ],
      "metadata": {
        "id": "-UAWHIZEAFg9"
      },
      "execution_count": null,
      "outputs": []
    },
    {
      "cell_type": "code",
      "source": [
        "#Creating dataFrame\n",
        "import pandas as pd\n",
        "m=pd.DataFrame(columns=head)\n",
        "print(m)"
      ],
      "metadata": {
        "id": "HIqkUyTYBSOJ"
      },
      "execution_count": null,
      "outputs": []
    },
    {
      "cell_type": "code",
      "source": [
        "s=hcode.find_all('tr')\n",
        "print(s)"
      ],
      "metadata": {
        "id": "u07VaE7eCF50"
      },
      "execution_count": null,
      "outputs": []
    },
    {
      "cell_type": "code",
      "source": [
        "ind=0\n",
        "for i in s[1:6]:\n",
        " # print(i)\n",
        "  erd=i.find_all('td')\n",
        "# print(erd)\n",
        "  rd=[j.text for j in erd]\n",
        " # print(rd)\n",
        "  m.loc[ind]=rd\n",
        "  ind=ind+1\n",
        "print(m)\n"
      ],
      "metadata": {
        "id": "8hgQOdinFY3Z"
      },
      "execution_count": null,
      "outputs": []
    },
    {
      "cell_type": "code",
      "source": [
        "m"
      ],
      "metadata": {
        "id": "YbfvFh2dLq4M"
      },
      "execution_count": null,
      "outputs": []
    },
    {
      "cell_type": "code",
      "source": [
        "#saving the csv file\n",
        "m.to_csv('richpeople.csv')\n"
      ],
      "metadata": {
        "id": "nc0nY0mAMGva"
      },
      "execution_count": null,
      "outputs": []
    }
  ]
}