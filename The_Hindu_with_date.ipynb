{
  "nbformat": 4,
  "nbformat_minor": 0,
  "metadata": {
    "colab": {
      "provenance": [],
      "include_colab_link": true
    },
    "kernelspec": {
      "name": "python3",
      "display_name": "Python 3"
    },
    "language_info": {
      "name": "python"
    }
  },
  "cells": [
    {
      "cell_type": "markdown",
      "metadata": {
        "id": "view-in-github",
        "colab_type": "text"
      },
      "source": [
        "<a href=\"https://colab.research.google.com/github/sairam0531/DATA-ANALYSIS/blob/main/The_Hindu_with_date.ipynb\" target=\"_parent\"><img src=\"https://colab.research.google.com/assets/colab-badge.svg\" alt=\"Open In Colab\"/></a>"
      ]
    },
    {
      "cell_type": "markdown",
      "source": [
        "WEBSCRAPPING using BeautifulSoup and scrapping the news headlines\n",
        "from articles"
      ],
      "metadata": {
        "id": "W9UO0IMQXZnl"
      }
    },
    {
      "cell_type": "code",
      "execution_count": null,
      "metadata": {
        "id": "2Ve1wPNY2ug_"
      },
      "outputs": [],
      "source": [
        "from bs4 import BeautifulSoup\n",
        "import requests\n",
        "a='https://www.thehindu.com/'\n",
        "page=requests.get(a)\n",
        "hcode=BeautifulSoup(page.text,'html')\n",
        "print(hcode)"
      ]
    },
    {
      "cell_type": "code",
      "source": [
        "#title\n",
        "headlines=hcode.find('title')\n",
        "print(headlines)"
      ],
      "metadata": {
        "colab": {
          "base_uri": "https://localhost:8080/"
        },
        "id": "aRnD5sHr3CU-",
        "outputId": "7225f8b4-37ff-4d36-8f89-4e4940fb63ed"
      },
      "execution_count": 2,
      "outputs": [
        {
          "output_type": "stream",
          "name": "stdout",
          "text": [
            "<title>\n",
            "\tBreaking News Today, Top Headlines, Live Updates | The Hindu\n",
            "</title>\n"
          ]
        }
      ]
    },
    {
      "cell_type": "code",
      "source": [
        "import datetime"
      ],
      "metadata": {
        "id": "PbEyaAtXq7i1"
      },
      "execution_count": 4,
      "outputs": []
    },
    {
      "cell_type": "code",
      "source": [
        "#getting the current date\n",
        "current_date = datetime.datetime.now().strftime('%Y-%m-%d')"
      ],
      "metadata": {
        "id": "jy4m59LhZWcp"
      },
      "execution_count": 6,
      "outputs": []
    },
    {
      "cell_type": "code",
      "source": [
        "headlines=hcode.find_all('h3')"
      ],
      "metadata": {
        "id": "ndmMQk9K3Wmx"
      },
      "execution_count": 17,
      "outputs": []
    },
    {
      "cell_type": "code",
      "source": [
        "h=[]\n",
        "for i in headlines:\n",
        "  h.append(i.text)\n",
        "print(h)"
      ],
      "metadata": {
        "colab": {
          "base_uri": "https://localhost:8080/"
        },
        "id": "1JN6yOqr3XwU",
        "outputId": "e77de635-fee1-4bf6-8f02-b7950bffbc10"
      },
      "execution_count": 18,
      "outputs": [
        {
          "output_type": "stream",
          "name": "stdout",
          "text": [
            "['\\nNitish is a habitual turncoat, even the BJP knows it: Tejashwi\\n', '\\nTracking the northeast: new fiction by women and a history of the Kohima Battle\\n', '\\nT.N.’s seat of power: never-ending talk of shifting Assembly-Secretariat complex\\n', '\\nReminiscences of an old Bangalore boy\\n', '\\nSC indicates Vedanta can refurbish Thoothukudi plant; T.N. says nobody has a right to set up a polluting industry\\n', '\\nFali S. Nariman, who championed secular India, free speech and independent judiciary, passes away\\n', '\\nIndia, Greece agree to expand cooperation in diverse areas\\n', '\\nCBI summons K. Kavitha in Delhi excise policy case\\n', '\\nSP, Congress announce seat-sharing formula in U.P., M.P.\\n', '\\nPotential U.K. Labour rebellion averted as Parliament considers ‘immediate’ ceasefire in West Asia\\n', '\\nCalm assessment: On the extent of ‘deemed forest’\\n', '\\nKeep it wholesome: On shaping a national cervical cancer control programme\\n', '\\nThe real threat to the ‘India as we know it’\\n', '\\nJudicial clarity on free speech\\n', '\\nWill the TDP-JSP alliance work out\\n', '\\nCauvery pact: a controversial journey\\n', '\\nHaving panchayats as self-governing institutions\\n', '\\nGreece’s gateway to Asia, India’s gateway to Europe\\n', '\\nWhat’s next in Julian Assange’s extradition appeal? | Explained\\n', '\\nWhat is Australia’s ‘right to disconnect,’ and what it means for workers | Explained \\xa0\\xa0\\n', '\\nCrisis for Hungary’s Viktor Orban as President and Minister resign | Explained\\n', '\\nWhy was there a political deadlock in Northern Ireland? | Explained\\n', '\\nSC examines divorced Muslim women’s right to maintenance under Section 125 of the CrPC | Explained\\n', 'Bharatanatyam embraces strength training']\n"
          ]
        }
      ]
    },
    {
      "cell_type": "code",
      "source": [
        "import pandas as pd\n",
        "from datetime import date, datetime\n",
        "current_date = datetime.now().strftime('%Y-%m-%d')\n",
        "df=pd.DataFrame({'Date':[current_date]*len(h[1:12]),'THE HINDU':h[1:12]})\n",
        "print(current_date)\n",
        "print(df)"
      ],
      "metadata": {
        "colab": {
          "base_uri": "https://localhost:8080/"
        },
        "id": "IjMriPv83chx",
        "outputId": "d3ad004d-06fb-4695-e4cb-b484cd6ab9be"
      },
      "execution_count": 19,
      "outputs": [
        {
          "output_type": "stream",
          "name": "stdout",
          "text": [
            "2024-02-21\n",
            "          Date                                          THE HINDU\n",
            "0   2024-02-21  \\nTracking the northeast: new fiction by women...\n",
            "1   2024-02-21  \\nT.N.’s seat of power: never-ending talk of s...\n",
            "2   2024-02-21          \\nReminiscences of an old Bangalore boy\\n\n",
            "3   2024-02-21  \\nSC indicates Vedanta can refurbish Thoothuku...\n",
            "4   2024-02-21  \\nFali S. Nariman, who championed secular Indi...\n",
            "5   2024-02-21  \\nIndia, Greece agree to expand cooperation in...\n",
            "6   2024-02-21  \\nCBI summons K. Kavitha in Delhi excise polic...\n",
            "7   2024-02-21  \\nSP, Congress announce seat-sharing formula i...\n",
            "8   2024-02-21  \\nPotential U.K. Labour rebellion averted as P...\n",
            "9   2024-02-21  \\nCalm assessment: On the extent of ‘deemed fo...\n",
            "10  2024-02-21  \\nKeep it wholesome: On shaping a national cer...\n"
          ]
        }
      ]
    },
    {
      "cell_type": "code",
      "source": [
        "df.to_csv(\"thehindunewsheadlines.csv\")"
      ],
      "metadata": {
        "id": "lSGWFeERbNFi"
      },
      "execution_count": 20,
      "outputs": []
    },
    {
      "cell_type": "code",
      "source": [
        "print(\"saved headlines to 'thehindunewsheadlines.csv'\")\n",
        "print(\"Date : \",current_date )\n"
      ],
      "metadata": {
        "colab": {
          "base_uri": "https://localhost:8080/"
        },
        "id": "KcJ2zugKc3Pv",
        "outputId": "21a0effa-b810-4e55-8206-5eb05ecb9a50"
      },
      "execution_count": 21,
      "outputs": [
        {
          "output_type": "stream",
          "name": "stdout",
          "text": [
            "saved headlines to 'thehindunewsheadlines.csv'\n",
            "Date :  2024-02-21\n"
          ]
        }
      ]
    }
  ]
}