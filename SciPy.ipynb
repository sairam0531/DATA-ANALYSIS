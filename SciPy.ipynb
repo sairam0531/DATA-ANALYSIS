{
  "nbformat": 4,
  "nbformat_minor": 0,
  "metadata": {
    "colab": {
      "provenance": [],
      "authorship_tag": "ABX9TyOZEYePUHx35X9ZssgWSBOS",
      "include_colab_link": true
    },
    "kernelspec": {
      "name": "python3",
      "display_name": "Python 3"
    },
    "language_info": {
      "name": "python"
    }
  },
  "cells": [
    {
      "cell_type": "markdown",
      "metadata": {
        "id": "view-in-github",
        "colab_type": "text"
      },
      "source": [
        "<a href=\"https://colab.research.google.com/github/sairam0531/DATA-ANALYSIS/blob/main/SciPy.ipynb\" target=\"_parent\"><img src=\"https://colab.research.google.com/assets/colab-badge.svg\" alt=\"Open In Colab\"/></a>"
      ]
    },
    {
      "cell_type": "code",
      "execution_count": null,
      "metadata": {
        "id": "6y7hUTeiRBat"
      },
      "outputs": [],
      "source": [
        "pip install scipy\n"
      ]
    },
    {
      "cell_type": "code",
      "source": [
        "import scipy\n",
        "#example:integration using quad function\n",
        "from scipy import integrate\n",
        "result,error=integrate.quad(lambda x:x**2,0,1)\n",
        "print(\"Result=\",result)\n",
        "print(\"Error\",error)\n"
      ],
      "metadata": {
        "id": "00YYOlK_RL7F"
      },
      "execution_count": null,
      "outputs": []
    },
    {
      "cell_type": "code",
      "source": [
        "square=lambda x:x**2\n",
        "#using the lambda function\n",
        "result=square(15)\n",
        "print(\"Result=\",result)"
      ],
      "metadata": {
        "id": "tzN4mGSAULhe"
      },
      "execution_count": null,
      "outputs": []
    },
    {
      "cell_type": "code",
      "source": [
        "import  numpy as np\n",
        "from scipy import optimize\n",
        "#optimization\n",
        "result_optimization=optimize.minimize_scalar(lambda x:x**2+3*x+5)\n",
        "print(\"optimization Result:\",result_optimization.x)"
      ],
      "metadata": {
        "id": "Dw151Yv1WLPK"
      },
      "execution_count": null,
      "outputs": []
    },
    {
      "cell_type": "code",
      "source": [
        "import numpy as np\n",
        "import matplotlib.pyplot as plt\n",
        "from scipy import interpolate\n",
        "#Interpolation\n",
        "x_data=np.array([0,1,2,3,4])\n",
        "y_data=np.array([0,2,1,3,5])\n",
        "interp_func=interpolate.interp1d(x_data,y_data,kind=\"linear\")\n",
        "interp_result=interp_func(2.5)\n",
        "print(\"Interpolate Result:\",interp_result)\n",
        "plt.plot(x_data,y_data,linewidth=5)"
      ],
      "metadata": {
        "id": "zjG_eeQaVvxF"
      },
      "execution_count": null,
      "outputs": []
    },
    {
      "cell_type": "code",
      "source": [
        "import numpy as np\n",
        "import pandas as pd\n",
        "import scipy.stats as stats\n",
        "import statsmodels.api as sn"
      ],
      "metadata": {
        "id": "jfHsi9i2bBCE"
      },
      "execution_count": null,
      "outputs": []
    },
    {
      "cell_type": "code",
      "source": [
        "#Generate sample data\n",
        "np.random.seed(0)\n",
        "data=pd.DataFrame({\n",
        "    \"Treatment\":np.random.choice(['A','B','C'],size=100),\n",
        "    'score':np.random.normal(loc=10,scale=2,size=100)\n",
        "})\n",
        "print(data)"
      ],
      "metadata": {
        "id": "EP_SIjGJcHT7"
      },
      "execution_count": null,
      "outputs": []
    },
    {
      "cell_type": "code",
      "source": [
        "import random\n",
        "random.seed(0)\n",
        "print(random.random())\n",
        "print(random.random())"
      ],
      "metadata": {
        "id": "d8srnVAxdCoB"
      },
      "execution_count": null,
      "outputs": []
    },
    {
      "cell_type": "code",
      "source": [
        "#Hypothesis testing(t-test)\n",
        "group_A=data[data['Treatment']=='A']['score']\n",
        "group_B=data[data['Treatment']=='B']['score']\n",
        "t_stat,p_value=stats.ttest_ind(group_A,group_B)\n",
        "print(\"t_statastics:\",t_stat)\n",
        "print(\"p-value:\",p_value)"
      ],
      "metadata": {
        "id": "PPxaUvlWfaQx"
      },
      "execution_count": null,
      "outputs": []
    },
    {
      "cell_type": "code",
      "source": [
        "import numpy as np\n",
        "import pandas as pd\n",
        "from scipy.stats import ttest_ind\n",
        "import scipy.stats as stats\n",
        "import statsmodels.api as sn\n",
        "#Generate sample data\n",
        "np.random.seed(0)\n",
        "data=pd.DataFrame({\n",
        "    \"colomn1\":np.random.normal(loc=12,scale=3,size=10),\n",
        "    \"colomn2\":np.random.normal(loc=10,scale=2,size=10)\n",
        "})\n",
        "print(data)\n",
        "d=data.mean(axis=0)\n",
        "print(d)\n",
        "f=data.mean(axis=1)\n",
        "data.shape\n",
        "#Hypothesis testing(t-test)\n",
        "from scipy.stats import ttest_ind\n",
        "group_A=data[\"colomn1\"]\n",
        "group_B=data[\"colomn2\"]\n",
        "t_stat,p_value=stats.ttest_ind(group_A,group_B)\n",
        "print(\"t_statastics:\",t_stat)\n",
        "print(\"p-value:\",p_value)\n",
        "f_stat,p_value=stats.f_oneway(data[data['colomn1']=='A']['colomn2'],\n",
        "data[data['colomn1']=='B']['colomn2'])\n",
        "print(\"F-statastics:\",f_stat)\n",
        "print(\"P-value:\",p_value)\n"
      ],
      "metadata": {
        "id": "vHn_DAXUlmFy"
      },
      "execution_count": null,
      "outputs": []
    },
    {
      "cell_type": "code",
      "source": [
        "\n",
        "import numpy as np\n",
        "import pandas as pd\n",
        "import scipy.stats as stats\n",
        "import statsmodels.api as sn\n",
        "#Generate sample data\n",
        "np.random.seed(0)\n",
        "data=pd.DataFrame({\n",
        "    \"Treatment\":np.random.choice(['A','B','C'],size=100),\n",
        "    'score':np.random.normal(loc=10,scale=2,size=100)\n",
        "})\n",
        "print(data)\n",
        "#Hypothesis testing(t-test)\n",
        "group_A=data[data['Treatment']=='A']['score']\n",
        "group_B=data[data['Treatment']=='B']['score']\n",
        "t_stat,p_value=stats.ttest_ind(group_A,group_B)\n",
        "print(\"t_statastics:\",t_stat)\n",
        "print(\"p-value:\",p_value)\n",
        "#ANOVA (One-way ANOVA)\n",
        "f_stat,p_value=stats.f_oneway(data[data['Treatment']=='A']['score'],\n",
        "data[data['Treatment']=='B']['score'])\n",
        "print(\"F-statastics:\",f_stat)\n",
        "print(\"P-value:\",p_value)\n"
      ],
      "metadata": {
        "id": "zVDdO8zs0M99"
      },
      "execution_count": null,
      "outputs": []
    },
    {
      "cell_type": "code",
      "source": [
        "from statsmodels.stats.multicomp import pairwise_tukeyhsd\n",
        "\n",
        "# Combine all data into a single array\n",
        "all_data = np.concatenate([Treatment, score, group3])\n",
        "\n",
        "# Create labels for groups\n",
        "labels = ['Treatment'] * len(Treatment) + ['score'] * len(score) + ['Group 3'] * len(group3)\n",
        "\n",
        "# Perform Tukey's HSD test\n",
        "tukey_results = pairwise_tukeyhsd(all_data, labels, alpha=0.05)\n",
        "\n",
        "# Print pairwise comparisons\n",
        "print(tukey_results)\n",
        "\n",
        "# Get confidence intervals for specific pairwise comparisons\n",
        "print(tukey_results.confint_diff())"
      ],
      "metadata": {
        "id": "bWAvHwhj4Z2K"
      },
      "execution_count": null,
      "outputs": []
    },
    {
      "cell_type": "code",
      "source": [
        "#Regression Analaysis (simple linear regression)\n",
        "X=sm.add_constant(data['Temperature'].replace({'A':0,'B':1,'C':2}))\n",
        "model=sm.OLS(data['score'],X)\n",
        "results=model.fit()\n",
        "print(results.summary())"
      ],
      "metadata": {
        "id": "eVzGk9HMWUX2"
      },
      "execution_count": null,
      "outputs": []
    },
    {
      "cell_type": "code",
      "source": [
        "import numpy as np\n",
        "import statsmodels.api as sm\n",
        "\n",
        "# Sample data\n",
        "X = np.array([1, 2, 3, 4, 5])  # Independent variable\n",
        "y = np.array([2, 4, 5, 4, 5])  # Dependent variable\n",
        "\n",
        "# Add a constant to the independent variable (for intercept estimation)\n",
        "X = sm.add_constant(X)\n",
        "\n",
        "# Create OLS model\n",
        "model = sm.OLS(y, X)\n",
        "\n",
        "# Fit the model\n",
        "results = model.fit()\n",
        "\n",
        "# Print summary of results\n",
        "print(results.summary())"
      ],
      "metadata": {
        "id": "748rvKiZXBwJ"
      },
      "execution_count": null,
      "outputs": []
    }
  ]
}