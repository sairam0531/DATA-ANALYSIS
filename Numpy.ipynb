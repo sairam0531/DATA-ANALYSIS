{
  "nbformat": 4,
  "nbformat_minor": 0,
  "metadata": {
    "colab": {
      "provenance": [],
      "authorship_tag": "ABX9TyODXr2viXrwbjCxIVxpcbxM",
      "include_colab_link": true
    },
    "kernelspec": {
      "name": "python3",
      "display_name": "Python 3"
    },
    "language_info": {
      "name": "python"
    }
  },
  "cells": [
    {
      "cell_type": "markdown",
      "metadata": {
        "id": "view-in-github",
        "colab_type": "text"
      },
      "source": [
        "<a href=\"https://colab.research.google.com/github/sairam0531/DATA-ANALYSIS/blob/main/Numpy.ipynb\" target=\"_parent\"><img src=\"https://colab.research.google.com/assets/colab-badge.svg\" alt=\"Open In Colab\"/></a>"
      ]
    },
    {
      "cell_type": "code",
      "execution_count": null,
      "metadata": {
        "id": "t7MBOSFFuhW3"
      },
      "outputs": [],
      "source": [
        "import numpy as np\n",
        "#creating arrays\n",
        "arr=np.array([1,2,3,4,5])\n",
        "print(arr)\n",
        "a=np.zeros((3,3),dtype=int)\n",
        "print(a)\n",
        "b=np.ones((2,2),dtype=int)\n",
        "print(b)\n",
        "#arrange array\n",
        "arangearr=np.arange(10)\n",
        "print(arangearr)\n",
        "#reshaped array\n",
        "reshaped_arr=arr.reshape(5,1)\n",
        "print(reshaped_arr)\n",
        "#sliced array\n",
        "sliced_arr=arr[2:4]\n",
        "print(sliced_arr)\n",
        "#addition of arrays\n",
        "arr2=np.array([1,2,3])\n",
        "arr1=np.array([6,7,8])\n",
        "result=arr2+arr1\n",
        "print(result)\n",
        "#numpy manipulation vstack func\n",
        "c=np.vstack(arr2+arr1)\n",
        "print(c)\n",
        "c=np.stack(arr2+arr1)\n",
        "print(c)\n",
        "#spliting fuctions\n",
        "arr4=np.array([2,4,6,8,10,11,12])\n",
        "f=np.split(arr4,3.5)\n",
        "print(f)\n",
        "#splitting method 2\n",
        "arr5=np.array([1,2,3,4,5,6])\n",
        "e=np.split(arr5,3)\n",
        "print(e)\n",
        "a=np.array([[1,2,3,4],[5,6,7,8]])\n",
        "b=a.T\n",
        "print(b)\n",
        "#linear algebra with numpy\n",
        "#seperate 2d 2x2 matrix\n",
        "g=np.array([[2,5],[4,8]])\n",
        "p=np.array([[3,6],[1,5]])\n",
        "j=np.dot(g,p)\n",
        "print(j)\n",
        "d=np.linalg.eig(j)\n",
        "print(d)\n",
        "a=np.array([[1,2,3],[4,5,6]])\n",
        "print(a)\n",
        "b=np.array([[7,8,9],[10,11,12]])\n",
        "print(b)\n",
        "#sum of arrays\n",
        "c=np.sum([a+b])\n",
        "print(c)\n",
        "#statistical operations\n",
        "o=np.array([1,2,3,4,5])\n",
        "v=np.mean(o)\n",
        "print(v)\n",
        "k=np.median(o)\n",
        "print(k)\n",
        "l=np.var(o)\n",
        "print(l)\n",
        "h=np.std(o)\n",
        "print(h)"
      ]
    }
  ]
}